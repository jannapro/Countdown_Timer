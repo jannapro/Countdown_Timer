{
  "nbformat": 4,
  "nbformat_minor": 0,
  "metadata": {
    "colab": {
      "provenance": []
    },
    "kernelspec": {
      "name": "python3",
      "display_name": "Python 3"
    },
    "language_info": {
      "name": "python"
    }
  },
  "cells": [
    {
      "cell_type": "code",
      "source": [
        "import time\n",
        "def count_down():\n",
        "    print(\"Welcome to the countdown timer\")\n",
        "    choice = input(\"Do you want to enter the time in seconds or minutes (s/m)? : \").lower()\n",
        "    if choice == \"m\":\n",
        "        chose = int(input(\"Enter how many minutes do you want: \"))\n",
        "        total = chose * 60\n",
        "    elif choice == \"s\":\n",
        "        total = int(input(\"Enter how many seconds do you want: \"))\n",
        "    else:\n",
        "        print(\"Sorry, we couldn't identify your choice!\")\n",
        "        return\n",
        "    print(\"\\nCountdown starting now!\\n\")\n",
        "    while total > 0:\n",
        "        print(\"Time left:\", total, \"seconds\")\n",
        "        time.sleep(1)\n",
        "        total -= 1\n",
        "    print(\"⏰ Time's up!\")\n",
        "count_down()"
      ],
      "metadata": {
        "colab": {
          "base_uri": "https://localhost:8080/"
        },
        "id": "Q80gqv4eXs9E",
        "outputId": "09d19ecc-2c52-46d0-de7e-7f66f58d207a"
      },
      "execution_count": 24,
      "outputs": [
        {
          "output_type": "stream",
          "name": "stdout",
          "text": [
            "Welcome to the countdown timer\n",
            "Do you want to enter the time in seconds or minutes (s/m)? : m\n",
            "Enter how many minutes do you want: 1\n",
            "\n",
            "Countdown starting now!\n",
            "\n",
            "Time left: 60 seconds\n",
            "Time left: 59 seconds\n",
            "Time left: 58 seconds\n",
            "Time left: 57 seconds\n",
            "Time left: 56 seconds\n",
            "Time left: 55 seconds\n",
            "Time left: 54 seconds\n",
            "Time left: 53 seconds\n",
            "Time left: 52 seconds\n",
            "Time left: 51 seconds\n",
            "Time left: 50 seconds\n",
            "Time left: 49 seconds\n",
            "Time left: 48 seconds\n",
            "Time left: 47 seconds\n",
            "Time left: 46 seconds\n",
            "Time left: 45 seconds\n",
            "Time left: 44 seconds\n",
            "Time left: 43 seconds\n",
            "Time left: 42 seconds\n",
            "Time left: 41 seconds\n",
            "Time left: 40 seconds\n",
            "Time left: 39 seconds\n",
            "Time left: 38 seconds\n",
            "Time left: 37 seconds\n",
            "Time left: 36 seconds\n",
            "Time left: 35 seconds\n",
            "Time left: 34 seconds\n",
            "Time left: 33 seconds\n",
            "Time left: 32 seconds\n",
            "Time left: 31 seconds\n",
            "Time left: 30 seconds\n",
            "Time left: 29 seconds\n",
            "Time left: 28 seconds\n",
            "Time left: 27 seconds\n",
            "Time left: 26 seconds\n",
            "Time left: 25 seconds\n",
            "Time left: 24 seconds\n",
            "Time left: 23 seconds\n",
            "Time left: 22 seconds\n",
            "Time left: 21 seconds\n",
            "Time left: 20 seconds\n",
            "Time left: 19 seconds\n",
            "Time left: 18 seconds\n",
            "Time left: 17 seconds\n",
            "Time left: 16 seconds\n",
            "Time left: 15 seconds\n",
            "Time left: 14 seconds\n",
            "Time left: 13 seconds\n",
            "Time left: 12 seconds\n",
            "Time left: 11 seconds\n",
            "Time left: 10 seconds\n",
            "Time left: 9 seconds\n",
            "Time left: 8 seconds\n",
            "Time left: 7 seconds\n",
            "Time left: 6 seconds\n",
            "Time left: 5 seconds\n",
            "Time left: 4 seconds\n",
            "Time left: 3 seconds\n",
            "Time left: 2 seconds\n",
            "Time left: 1 seconds\n",
            "⏰ Time's up!\n"
          ]
        }
      ]
    }
  ]
}